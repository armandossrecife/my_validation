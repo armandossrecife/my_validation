{
  "nbformat": 4,
  "nbformat_minor": 0,
  "metadata": {
    "colab": {
      "provenance": [],
      "collapsed_sections": [
        "X3OnecfPeAVT"
      ],
      "authorship_tag": "ABX9TyNuBvnIKb2i4M8pslAQNYHs",
      "include_colab_link": true
    },
    "kernelspec": {
      "name": "python3",
      "display_name": "Python 3"
    },
    "language_info": {
      "name": "python"
    }
  },
  "cells": [
    {
      "cell_type": "markdown",
      "metadata": {
        "id": "view-in-github",
        "colab_type": "text"
      },
      "source": [
        "<a href=\"https://colab.research.google.com/github/armandossrecife/my_validation/blob/main/extract_info_from_repositories.ipynb\" target=\"_parent\"><img src=\"https://colab.research.google.com/assets/colab-badge.svg\" alt=\"Open In Colab\"/></a>"
      ]
    },
    {
      "cell_type": "markdown",
      "source": [
        "# Instala o cloc\n",
        "\n",
        "(https://github.com/AlDanial/cloc)"
      ],
      "metadata": {
        "id": "X3OnecfPeAVT"
      }
    },
    {
      "cell_type": "code",
      "source": [
        "!sudo apt update\n",
        "!apt install cloc"
      ],
      "metadata": {
        "colab": {
          "base_uri": "https://localhost:8080/"
        },
        "id": "0IEIYQmvd6li",
        "outputId": "619dbf79-703f-4e87-f225-34c4cf5a6aee"
      },
      "execution_count": 1,
      "outputs": [
        {
          "output_type": "stream",
          "name": "stdout",
          "text": [
            "\u001b[33m\r0% [Working]\u001b[0m\r            \rHit:1 http://archive.ubuntu.com/ubuntu jammy InRelease\n",
            "\u001b[33m\r0% [Waiting for headers] [Connected to cloud.r-project.org (108.157.162.119)] [\u001b[0m\r                                                                               \rGet:2 http://archive.ubuntu.com/ubuntu jammy-updates InRelease [119 kB]\n",
            "\r                                                                               \rGet:3 http://security.ubuntu.com/ubuntu jammy-security InRelease [110 kB]\n",
            "Get:4 https://cloud.r-project.org/bin/linux/ubuntu jammy-cran40/ InRelease [3,626 B]\n",
            "Get:5 https://developer.download.nvidia.com/compute/cuda/repos/ubuntu2204/x86_64  InRelease [1,581 B]\n",
            "Hit:6 http://archive.ubuntu.com/ubuntu jammy-backports InRelease\n",
            "Hit:7 https://ppa.launchpadcontent.net/c2d4u.team/c2d4u4.0+/ubuntu jammy InRelease\n",
            "Get:8 http://security.ubuntu.com/ubuntu jammy-security/main amd64 Packages [1,240 kB]\n",
            "Hit:9 https://ppa.launchpadcontent.net/deadsnakes/ppa/ubuntu jammy InRelease\n",
            "Hit:10 https://ppa.launchpadcontent.net/graphics-drivers/ppa/ubuntu jammy InRelease\n",
            "Get:11 http://security.ubuntu.com/ubuntu jammy-security/restricted amd64 Packages [1,456 kB]\n",
            "Hit:12 https://ppa.launchpadcontent.net/ubuntugis/ppa/ubuntu jammy InRelease\n",
            "Get:13 http://security.ubuntu.com/ubuntu jammy-security/universe amd64 Packages [1,013 kB]\n",
            "Get:14 http://archive.ubuntu.com/ubuntu jammy-updates/universe amd64 Packages [1,282 kB]\n",
            "Get:15 http://archive.ubuntu.com/ubuntu jammy-updates/main amd64 Packages [1,514 kB]\n",
            "Get:16 https://developer.download.nvidia.com/compute/cuda/repos/ubuntu2204/x86_64  Packages [631 kB]\n",
            "Get:17 http://archive.ubuntu.com/ubuntu jammy-updates/restricted amd64 Packages [1,487 kB]\n",
            "Fetched 8,858 kB in 2s (4,113 kB/s)\n",
            "Reading package lists... Done\n",
            "Building dependency tree... Done\n",
            "Reading state information... Done\n",
            "20 packages can be upgraded. Run 'apt list --upgradable' to see them.\n",
            "Reading package lists... Done\n",
            "Building dependency tree... Done\n",
            "Reading state information... Done\n",
            "The following additional packages will be installed:\n",
            "  libalgorithm-diff-perl libalgorithm-diff-xs-perl libb-hooks-endofscope-perl\n",
            "  libb-hooks-op-check-perl libclass-method-modifiers-perl libclass-xsaccessor-perl\n",
            "  libdevel-callchecker-perl libdynaloader-functions-perl libimport-into-perl\n",
            "  libmodule-implementation-perl libmodule-runtime-perl libmoo-perl libnamespace-clean-perl\n",
            "  libpackage-stash-perl libpackage-stash-xs-perl libparallel-forkmanager-perl\n",
            "  libparams-classify-perl libregexp-common-perl librole-tiny-perl libsub-exporter-progressive-perl\n",
            "  libsub-identify-perl libsub-name-perl libsub-quote-perl libtry-tiny-perl libvariable-magic-perl\n",
            "Suggested packages:\n",
            "  libscalar-number-perl\n",
            "The following NEW packages will be installed:\n",
            "  cloc libalgorithm-diff-perl libalgorithm-diff-xs-perl libb-hooks-endofscope-perl\n",
            "  libb-hooks-op-check-perl libclass-method-modifiers-perl libclass-xsaccessor-perl\n",
            "  libdevel-callchecker-perl libdynaloader-functions-perl libimport-into-perl\n",
            "  libmodule-implementation-perl libmodule-runtime-perl libmoo-perl libnamespace-clean-perl\n",
            "  libpackage-stash-perl libpackage-stash-xs-perl libparallel-forkmanager-perl\n",
            "  libparams-classify-perl libregexp-common-perl librole-tiny-perl libsub-exporter-progressive-perl\n",
            "  libsub-identify-perl libsub-name-perl libsub-quote-perl libtry-tiny-perl libvariable-magic-perl\n",
            "0 upgraded, 26 newly installed, 0 to remove and 20 not upgraded.\n",
            "Need to get 744 kB of archives.\n",
            "After this operation, 2,609 kB of additional disk space will be used.\n",
            "Get:1 http://archive.ubuntu.com/ubuntu jammy/main amd64 libalgorithm-diff-perl all 1.201-1 [41.8 kB]\n",
            "Get:2 http://archive.ubuntu.com/ubuntu jammy/main amd64 libclass-method-modifiers-perl all 2.13-1 [16.2 kB]\n",
            "Get:3 http://archive.ubuntu.com/ubuntu jammy/main amd64 libclass-xsaccessor-perl amd64 1.19-3build9 [34.1 kB]\n",
            "Get:4 http://archive.ubuntu.com/ubuntu jammy/main amd64 libb-hooks-op-check-perl amd64 0.22-1build5 [10.3 kB]\n",
            "Get:5 http://archive.ubuntu.com/ubuntu jammy/main amd64 libdynaloader-functions-perl all 0.003-1.1 [12.1 kB]\n",
            "Get:6 http://archive.ubuntu.com/ubuntu jammy/main amd64 libdevel-callchecker-perl amd64 0.008-1ubuntu4 [14.9 kB]\n",
            "Get:7 http://archive.ubuntu.com/ubuntu jammy/main amd64 libparams-classify-perl amd64 0.015-1build5 [22.0 kB]\n",
            "Get:8 http://archive.ubuntu.com/ubuntu jammy/main amd64 libmodule-runtime-perl all 0.016-1 [16.2 kB]\n",
            "Get:9 http://archive.ubuntu.com/ubuntu jammy/main amd64 libimport-into-perl all 1.002005-1 [11.0 kB]\n",
            "Get:10 http://archive.ubuntu.com/ubuntu jammy/main amd64 librole-tiny-perl all 2.002004-1 [16.3 kB]\n",
            "Get:11 http://archive.ubuntu.com/ubuntu jammy/main amd64 libsub-quote-perl all 2.006006-1 [19.5 kB]\n",
            "Get:12 http://archive.ubuntu.com/ubuntu jammy/main amd64 libmoo-perl all 2.005004-3 [48.0 kB]\n",
            "Get:13 http://archive.ubuntu.com/ubuntu jammy/universe amd64 libparallel-forkmanager-perl all 2.02-1 [27.7 kB]\n",
            "Get:14 http://archive.ubuntu.com/ubuntu jammy/universe amd64 libregexp-common-perl all 2017060201-1 [168 kB]\n",
            "Get:15 http://archive.ubuntu.com/ubuntu jammy/universe amd64 cloc all 1.90-1 [106 kB]\n",
            "Get:16 http://archive.ubuntu.com/ubuntu jammy/main amd64 libalgorithm-diff-xs-perl amd64 0.04-6build3 [11.9 kB]\n",
            "Get:17 http://archive.ubuntu.com/ubuntu jammy/main amd64 libtry-tiny-perl all 0.31-1 [21.8 kB]\n",
            "Get:18 http://archive.ubuntu.com/ubuntu jammy/main amd64 libmodule-implementation-perl all 0.09-1.1 [11.6 kB]\n",
            "Get:19 http://archive.ubuntu.com/ubuntu jammy/main amd64 libsub-exporter-progressive-perl all 0.001013-1 [6,784 B]\n",
            "Get:20 http://archive.ubuntu.com/ubuntu jammy/main amd64 libvariable-magic-perl amd64 0.62-1build5 [35.9 kB]\n",
            "Get:21 http://archive.ubuntu.com/ubuntu jammy/main amd64 libb-hooks-endofscope-perl all 0.25-1 [17.8 kB]\n",
            "Get:22 http://archive.ubuntu.com/ubuntu jammy/main amd64 libpackage-stash-perl all 0.39-1 [19.1 kB]\n",
            "Get:23 http://archive.ubuntu.com/ubuntu jammy/main amd64 libsub-identify-perl amd64 0.14-1build5 [10.4 kB]\n",
            "Get:24 http://archive.ubuntu.com/ubuntu jammy/main amd64 libsub-name-perl amd64 0.26-1build3 [11.4 kB]\n",
            "Get:25 http://archive.ubuntu.com/ubuntu jammy/main amd64 libnamespace-clean-perl all 0.27-1 [13.6 kB]\n",
            "Get:26 http://archive.ubuntu.com/ubuntu jammy/main amd64 libpackage-stash-xs-perl amd64 0.29-1build5 [19.4 kB]\n",
            "Fetched 744 kB in 0s (2,399 kB/s)\n",
            "Selecting previously unselected package libalgorithm-diff-perl.\n",
            "(Reading database ... 120880 files and directories currently installed.)\n",
            "Preparing to unpack .../00-libalgorithm-diff-perl_1.201-1_all.deb ...\n",
            "Unpacking libalgorithm-diff-perl (1.201-1) ...\n",
            "Selecting previously unselected package libclass-method-modifiers-perl.\n",
            "Preparing to unpack .../01-libclass-method-modifiers-perl_2.13-1_all.deb ...\n",
            "Unpacking libclass-method-modifiers-perl (2.13-1) ...\n",
            "Selecting previously unselected package libclass-xsaccessor-perl.\n",
            "Preparing to unpack .../02-libclass-xsaccessor-perl_1.19-3build9_amd64.deb ...\n",
            "Unpacking libclass-xsaccessor-perl (1.19-3build9) ...\n",
            "Selecting previously unselected package libb-hooks-op-check-perl.\n",
            "Preparing to unpack .../03-libb-hooks-op-check-perl_0.22-1build5_amd64.deb ...\n",
            "Unpacking libb-hooks-op-check-perl (0.22-1build5) ...\n",
            "Selecting previously unselected package libdynaloader-functions-perl.\n",
            "Preparing to unpack .../04-libdynaloader-functions-perl_0.003-1.1_all.deb ...\n",
            "Unpacking libdynaloader-functions-perl (0.003-1.1) ...\n",
            "Selecting previously unselected package libdevel-callchecker-perl.\n",
            "Preparing to unpack .../05-libdevel-callchecker-perl_0.008-1ubuntu4_amd64.deb ...\n",
            "Unpacking libdevel-callchecker-perl (0.008-1ubuntu4) ...\n",
            "Selecting previously unselected package libparams-classify-perl.\n",
            "Preparing to unpack .../06-libparams-classify-perl_0.015-1build5_amd64.deb ...\n",
            "Unpacking libparams-classify-perl (0.015-1build5) ...\n",
            "Selecting previously unselected package libmodule-runtime-perl.\n",
            "Preparing to unpack .../07-libmodule-runtime-perl_0.016-1_all.deb ...\n",
            "Unpacking libmodule-runtime-perl (0.016-1) ...\n",
            "Selecting previously unselected package libimport-into-perl.\n",
            "Preparing to unpack .../08-libimport-into-perl_1.002005-1_all.deb ...\n",
            "Unpacking libimport-into-perl (1.002005-1) ...\n",
            "Selecting previously unselected package librole-tiny-perl.\n",
            "Preparing to unpack .../09-librole-tiny-perl_2.002004-1_all.deb ...\n",
            "Unpacking librole-tiny-perl (2.002004-1) ...\n",
            "Selecting previously unselected package libsub-quote-perl.\n",
            "Preparing to unpack .../10-libsub-quote-perl_2.006006-1_all.deb ...\n",
            "Unpacking libsub-quote-perl (2.006006-1) ...\n",
            "Selecting previously unselected package libmoo-perl.\n",
            "Preparing to unpack .../11-libmoo-perl_2.005004-3_all.deb ...\n",
            "Unpacking libmoo-perl (2.005004-3) ...\n",
            "Selecting previously unselected package libparallel-forkmanager-perl.\n",
            "Preparing to unpack .../12-libparallel-forkmanager-perl_2.02-1_all.deb ...\n",
            "Unpacking libparallel-forkmanager-perl (2.02-1) ...\n",
            "Selecting previously unselected package libregexp-common-perl.\n",
            "Preparing to unpack .../13-libregexp-common-perl_2017060201-1_all.deb ...\n",
            "Unpacking libregexp-common-perl (2017060201-1) ...\n",
            "Selecting previously unselected package cloc.\n",
            "Preparing to unpack .../14-cloc_1.90-1_all.deb ...\n",
            "Unpacking cloc (1.90-1) ...\n",
            "Selecting previously unselected package libalgorithm-diff-xs-perl.\n",
            "Preparing to unpack .../15-libalgorithm-diff-xs-perl_0.04-6build3_amd64.deb ...\n",
            "Unpacking libalgorithm-diff-xs-perl (0.04-6build3) ...\n",
            "Selecting previously unselected package libtry-tiny-perl.\n",
            "Preparing to unpack .../16-libtry-tiny-perl_0.31-1_all.deb ...\n",
            "Unpacking libtry-tiny-perl (0.31-1) ...\n",
            "Selecting previously unselected package libmodule-implementation-perl.\n",
            "Preparing to unpack .../17-libmodule-implementation-perl_0.09-1.1_all.deb ...\n",
            "Unpacking libmodule-implementation-perl (0.09-1.1) ...\n",
            "Selecting previously unselected package libsub-exporter-progressive-perl.\n",
            "Preparing to unpack .../18-libsub-exporter-progressive-perl_0.001013-1_all.deb ...\n",
            "Unpacking libsub-exporter-progressive-perl (0.001013-1) ...\n",
            "Selecting previously unselected package libvariable-magic-perl.\n",
            "Preparing to unpack .../19-libvariable-magic-perl_0.62-1build5_amd64.deb ...\n",
            "Unpacking libvariable-magic-perl (0.62-1build5) ...\n",
            "Selecting previously unselected package libb-hooks-endofscope-perl.\n",
            "Preparing to unpack .../20-libb-hooks-endofscope-perl_0.25-1_all.deb ...\n",
            "Unpacking libb-hooks-endofscope-perl (0.25-1) ...\n",
            "Selecting previously unselected package libpackage-stash-perl.\n",
            "Preparing to unpack .../21-libpackage-stash-perl_0.39-1_all.deb ...\n",
            "Unpacking libpackage-stash-perl (0.39-1) ...\n",
            "Selecting previously unselected package libsub-identify-perl.\n",
            "Preparing to unpack .../22-libsub-identify-perl_0.14-1build5_amd64.deb ...\n",
            "Unpacking libsub-identify-perl (0.14-1build5) ...\n",
            "Selecting previously unselected package libsub-name-perl.\n",
            "Preparing to unpack .../23-libsub-name-perl_0.26-1build3_amd64.deb ...\n",
            "Unpacking libsub-name-perl (0.26-1build3) ...\n",
            "Selecting previously unselected package libnamespace-clean-perl.\n",
            "Preparing to unpack .../24-libnamespace-clean-perl_0.27-1_all.deb ...\n",
            "Unpacking libnamespace-clean-perl (0.27-1) ...\n",
            "Selecting previously unselected package libpackage-stash-xs-perl.\n",
            "Preparing to unpack .../25-libpackage-stash-xs-perl_0.29-1build5_amd64.deb ...\n",
            "Unpacking libpackage-stash-xs-perl (0.29-1build5) ...\n",
            "Setting up libdynaloader-functions-perl (0.003-1.1) ...\n",
            "Setting up libclass-method-modifiers-perl (2.13-1) ...\n",
            "Setting up libalgorithm-diff-perl (1.201-1) ...\n",
            "Setting up libsub-identify-perl (0.14-1build5) ...\n",
            "Setting up libtry-tiny-perl (0.31-1) ...\n",
            "Setting up libregexp-common-perl (2017060201-1) ...\n",
            "Setting up libpackage-stash-xs-perl (0.29-1build5) ...\n",
            "Setting up libvariable-magic-perl (0.62-1build5) ...\n",
            "Setting up libb-hooks-op-check-perl (0.22-1build5) ...\n",
            "Setting up libsub-exporter-progressive-perl (0.001013-1) ...\n",
            "Setting up libsub-name-perl (0.26-1build3) ...\n",
            "Setting up librole-tiny-perl (2.002004-1) ...\n",
            "Setting up libsub-quote-perl (2.006006-1) ...\n",
            "Setting up libclass-xsaccessor-perl (1.19-3build9) ...\n",
            "Setting up libalgorithm-diff-xs-perl (0.04-6build3) ...\n",
            "Setting up libdevel-callchecker-perl (0.008-1ubuntu4) ...\n",
            "Setting up libparams-classify-perl (0.015-1build5) ...\n",
            "Setting up libmodule-runtime-perl (0.016-1) ...\n",
            "Setting up libmodule-implementation-perl (0.09-1.1) ...\n",
            "Setting up libpackage-stash-perl (0.39-1) ...\n",
            "Setting up libimport-into-perl (1.002005-1) ...\n",
            "Setting up libmoo-perl (2.005004-3) ...\n",
            "Setting up libparallel-forkmanager-perl (2.02-1) ...\n",
            "Setting up libb-hooks-endofscope-perl (0.25-1) ...\n",
            "Setting up cloc (1.90-1) ...\n",
            "Setting up libnamespace-clean-perl (0.27-1) ...\n",
            "Processing triggers for man-db (2.10.2-1) ...\n"
          ]
        }
      ]
    },
    {
      "cell_type": "markdown",
      "source": [
        "# Clona os repositórios que serão analisados"
      ],
      "metadata": {
        "id": "RPUy_z27eIue"
      }
    },
    {
      "cell_type": "code",
      "execution_count": 2,
      "metadata": {
        "colab": {
          "base_uri": "https://localhost:8080/"
        },
        "id": "kzkewek0dizF",
        "outputId": "6935dc7d-c726-4929-91c5-f4f6204fa3be"
      },
      "outputs": [
        {
          "output_type": "stream",
          "name": "stdout",
          "text": [
            "Cloning into 'cassandra'...\n",
            "remote: Enumerating objects: 411440, done.\u001b[K\n",
            "remote: Counting objects: 100% (137/137), done.\u001b[K\n",
            "remote: Compressing objects: 100% (95/95), done.\u001b[K\n",
            "remote: Total 411440 (delta 34), reused 106 (delta 23), pack-reused 411303\u001b[K\n",
            "Receiving objects: 100% (411440/411440), 409.70 MiB | 25.12 MiB/s, done.\n",
            "Resolving deltas: 100% (240245/240245), done.\n"
          ]
        }
      ],
      "source": [
        "!git clone https://github.com/apache/cassandra.git"
      ]
    },
    {
      "cell_type": "code",
      "source": [
        "!git clone https://github.com/apache/kafka.git"
      ],
      "metadata": {
        "colab": {
          "base_uri": "https://localhost:8080/"
        },
        "id": "BuOeeBEydqsA",
        "outputId": "f3b11b14-bdc5-45ab-cbe8-e25e04c7bbd8"
      },
      "execution_count": 3,
      "outputs": [
        {
          "output_type": "stream",
          "name": "stdout",
          "text": [
            "Cloning into 'kafka'...\n",
            "remote: Enumerating objects: 356433, done.\u001b[K\n",
            "remote: Counting objects: 100% (10/10), done.\u001b[K\n",
            "remote: Compressing objects: 100% (10/10), done.\u001b[K\n",
            "remote: Total 356433 (delta 0), reused 0 (delta 0), pack-reused 356423\u001b[K\n",
            "Receiving objects: 100% (356433/356433), 166.74 MiB | 20.75 MiB/s, done.\n",
            "Resolving deltas: 100% (171935/171935), done.\n"
          ]
        }
      ]
    },
    {
      "cell_type": "code",
      "source": [
        "!git clone https://github.com/apache/activemq.git"
      ],
      "metadata": {
        "colab": {
          "base_uri": "https://localhost:8080/"
        },
        "id": "QQ2TkrH5dvz1",
        "outputId": "81fa20eb-a48c-47e7-8c82-ccf2638a4b7c"
      },
      "execution_count": 4,
      "outputs": [
        {
          "output_type": "stream",
          "name": "stdout",
          "text": [
            "Cloning into 'activemq'...\n",
            "remote: Enumerating objects: 237860, done.\u001b[K\n",
            "remote: Counting objects: 100% (4633/4633), done.\u001b[K\n",
            "remote: Compressing objects: 100% (2209/2209), done.\u001b[K\n",
            "remote: Total 237860 (delta 1989), reused 4264 (delta 1764), pack-reused 233227\u001b[K\n",
            "Receiving objects: 100% (237860/237860), 61.70 MiB | 14.86 MiB/s, done.\n",
            "Resolving deltas: 100% (114982/114982), done.\n"
          ]
        }
      ]
    },
    {
      "cell_type": "code",
      "source": [
        "!git clone https://github.com/apache/hadoop.git"
      ],
      "metadata": {
        "colab": {
          "base_uri": "https://localhost:8080/"
        },
        "id": "67zkc7CAd0zX",
        "outputId": "089120b9-cb39-4249-9caa-8874bb6af26d"
      },
      "execution_count": 5,
      "outputs": [
        {
          "output_type": "stream",
          "name": "stdout",
          "text": [
            "Cloning into 'hadoop'...\n",
            "remote: Enumerating objects: 4241255, done.\u001b[K\n",
            "remote: Counting objects: 100% (72729/72729), done.\u001b[K\n",
            "remote: Compressing objects: 100% (17640/17640), done.\u001b[K\n",
            "remote: Total 4241255 (delta 62027), reused 64210 (delta 53932), pack-reused 4168526\u001b[K\n",
            "Receiving objects: 100% (4241255/4241255), 2.16 GiB | 21.07 MiB/s, done.\n",
            "Resolving deltas: 100% (3064968/3064968), done.\n",
            "Updating files: 100% (15318/15318), done.\n"
          ]
        }
      ]
    },
    {
      "cell_type": "markdown",
      "source": [
        "# Extrai informações dos repositórios"
      ],
      "metadata": {
        "id": "lI5o2Fe7fmHr"
      }
    },
    {
      "cell_type": "code",
      "source": [
        "!cloc cassandra --include-lang=Java ."
      ],
      "metadata": {
        "colab": {
          "base_uri": "https://localhost:8080/"
        },
        "id": "USIXaUv1foZ6",
        "outputId": "7b44e516-e491-4773-9a5d-f0daf6423f61"
      },
      "execution_count": 6,
      "outputs": [
        {
          "output_type": "stream",
          "name": "stdout",
          "text": [
            "   37609 text files.\n",
            "   31546 unique files.                              \n",
            "   12448 files ignored.\n",
            "\n",
            "github.com/AlDanial/cloc v 1.90  T=88.54 s (284.5 files/s, 61724.2 lines/s)\n",
            "-------------------------------------------------------------------------------\n",
            "Language                     files          blank        comment           code\n",
            "-------------------------------------------------------------------------------\n",
            "Java                         25194         681703        1106330        3677113\n",
            "-------------------------------------------------------------------------------\n",
            "SUM:                         25194         681703        1106330        3677113\n",
            "-------------------------------------------------------------------------------\n"
          ]
        }
      ]
    },
    {
      "cell_type": "code",
      "source": [
        "!cloc kafka --include-lang=Java ."
      ],
      "metadata": {
        "colab": {
          "base_uri": "https://localhost:8080/"
        },
        "id": "J2t-J0dPfvBv",
        "outputId": "53389850-ee6a-405f-9861-f9d7b4bbf5e8"
      },
      "execution_count": 7,
      "outputs": [
        {
          "output_type": "stream",
          "name": "stdout",
          "text": [
            "   37714 text files.\n",
            "   31546 unique files.                              \n",
            "   12550 files ignored.\n",
            "\n",
            "1 error:\n",
            "Line count, exceeded timeout:  ./activemq/activemq-openwire-generator/src/main/java/org/apache/activemq/openwire/tool/JavaTestsGenerator.java\n",
            "\n",
            "github.com/AlDanial/cloc v 1.90  T=80.77 s (311.9 files/s, 67662.5 lines/s)\n",
            "-------------------------------------------------------------------------------\n",
            "Language                     files          blank        comment           code\n",
            "-------------------------------------------------------------------------------\n",
            "Java                         25194         681703        1106500        3676943\n",
            "-------------------------------------------------------------------------------\n",
            "SUM:                         25194         681703        1106500        3676943\n",
            "-------------------------------------------------------------------------------\n"
          ]
        }
      ]
    },
    {
      "cell_type": "code",
      "source": [
        "!cloc activemq --include-lang=Java ."
      ],
      "metadata": {
        "colab": {
          "base_uri": "https://localhost:8080/"
        },
        "id": "g_oV7xrxfwvH",
        "outputId": "7b9de93b-bda6-4b58-dbd2-42dc97bbe22a"
      },
      "execution_count": 8,
      "outputs": [
        {
          "output_type": "stream",
          "name": "stdout",
          "text": [
            "   37132 text files.\n",
            "   31546 unique files.                              \n",
            "   11971 files ignored.\n",
            "\n",
            "1 error:\n",
            "Line count, exceeded timeout:  ./hadoop/hadoop-mapreduce-project/hadoop-mapreduce-client/hadoop-mapreduce-client-common/src/test/java/org/apache/hadoop/mapreduce/v2/util/TestMRApps.java\n",
            "\n",
            "github.com/AlDanial/cloc v 1.90  T=81.69 s (308.4 files/s, 66899.8 lines/s)\n",
            "-------------------------------------------------------------------------------\n",
            "Language                     files          blank        comment           code\n",
            "-------------------------------------------------------------------------------\n",
            "Java                         25194         681703        1106835        3676608\n",
            "-------------------------------------------------------------------------------\n",
            "SUM:                         25194         681703        1106835        3676608\n",
            "-------------------------------------------------------------------------------\n"
          ]
        }
      ]
    },
    {
      "cell_type": "code",
      "source": [
        "!cloc hadoop --include-lang=Java ."
      ],
      "metadata": {
        "colab": {
          "base_uri": "https://localhost:8080/"
        },
        "id": "y-GSt3_JfzP8",
        "outputId": "161796b3-29bb-43ec-b514-e34891012253"
      },
      "execution_count": 9,
      "outputs": [
        {
          "output_type": "stream",
          "name": "stdout",
          "text": [
            "   47069 text files.\n",
            "   31546 unique files.                              \n",
            "   21923 files ignored.\n",
            "\n",
            "1 error:\n",
            "Line count, exceeded timeout:  hadoop/hadoop-mapreduce-project/hadoop-mapreduce-client/hadoop-mapreduce-client-common/src/test/java/org/apache/hadoop/mapreduce/v2/util/TestMRApps.java\n",
            "\n",
            "github.com/AlDanial/cloc v 1.90  T=85.44 s (294.9 files/s, 63966.2 lines/s)\n",
            "-------------------------------------------------------------------------------\n",
            "Language                     files          blank        comment           code\n",
            "-------------------------------------------------------------------------------\n",
            "Java                         25194         681703        1106835        3676608\n",
            "-------------------------------------------------------------------------------\n",
            "SUM:                         25194         681703        1106835        3676608\n",
            "-------------------------------------------------------------------------------\n"
          ]
        }
      ]
    }
  ]
}